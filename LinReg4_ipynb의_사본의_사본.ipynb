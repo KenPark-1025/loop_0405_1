{
  "nbformat": 4,
  "nbformat_minor": 0,
  "metadata": {
    "colab": {
      "provenance": [],
      "authorship_tag": "ABX9TyMPWUGKEXHHMMo3e7bdRb7v",
      "include_colab_link": true
    },
    "kernelspec": {
      "name": "python3",
      "display_name": "Python 3"
    },
    "language_info": {
      "name": "python"
    }
  },
  "cells": [
    {
      "cell_type": "markdown",
      "metadata": {
        "id": "view-in-github",
        "colab_type": "text"
      },
      "source": [
        "<a href=\"https://colab.research.google.com/github/KenPark-1025/loop_0405_1/blob/master/LinReg4_ipynb%EC%9D%98_%EC%82%AC%EB%B3%B8%EC%9D%98_%EC%82%AC%EB%B3%B8.ipynb\" target=\"_parent\"><img src=\"https://colab.research.google.com/assets/colab-badge.svg\" alt=\"Open In Colab\"/></a>"
      ]
    },
    {
      "cell_type": "code",
      "execution_count": 1,
      "metadata": {
        "id": "fTP4NoKsQc6A"
      },
      "outputs": [],
      "source": [
        "import tensorflow as tf\n",
        "import numpy as np\n",
        "from time import time"
      ]
    },
    {
      "cell_type": "code",
      "source": [
        "x = tf.constant([3.,4.,5.,6.,7.,8.])\n",
        "y = tf.constant([1.,1.,0.,0.,0.,0.])\n",
        "w = tf.Variable(1.)\n",
        "b = tf.Variable(0.5)\n",
        "learning_rate = 0.01\n",
        "epochs = 1000"
      ],
      "metadata": {
        "id": "eWBbuSJBQows"
      },
      "execution_count": 2,
      "outputs": []
    },
    {
      "cell_type": "code",
      "source": [
        "@tf.function\n",
        "def sigmoid(x):\n",
        "    return 1 / (1 + np.exp(-x))\n",
        "    y = sigmoid(x)\n",
        "def train_step(x, y):\n",
        "  with tf.GradientTape() as t:\n",
        "    y_hat = w * x + b\n",
        "    loss = (y_hat - y) ** 2\n",
        "    grads = t.gradient(loss, [w, b])\n",
        "    w.assign_sub(learning_rate * grads[0])\n",
        "    b.assign_sub(learning_rate * grads[1])"
      ],
      "metadata": {
        "id": "7Fz51L27RKZo"
      },
      "execution_count": 3,
      "outputs": []
    },
    {
      "cell_type": "code",
      "source": [
        "start_t = time()\n",
        "for i in range(epochs):\n",
        "  for k in range(len(y)):\n",
        "    train_step(x[k], y[k])\n",
        "end_t = time()\n",
        "print(end_t - start_t)"
      ],
      "metadata": {
        "colab": {
          "base_uri": "https://localhost:8080/"
        },
        "id": "2RqMy81YR2UP",
        "outputId": "73373601-cc46-44e1-9cbe-986efda96308"
      },
      "execution_count": 4,
      "outputs": [
        {
          "output_type": "stream",
          "name": "stdout",
          "text": [
            "16.846908569335938\n"
          ]
        }
      ]
    },
    {
      "cell_type": "code",
      "source": [
        "print('w: {:8.5f} b:{:8.5f}'.format(w.numpy(), b.numpy()))"
      ],
      "metadata": {
        "id": "eZ8tvSV5TF2M",
        "colab": {
          "base_uri": "https://localhost:8080/"
        },
        "outputId": "ad97aa40-46bb-424c-8b31-a4c1185b18eb"
      },
      "execution_count": 5,
      "outputs": [
        {
          "output_type": "stream",
          "name": "stdout",
          "text": [
            "w: -0.14885 b: 1.24393\n"
          ]
        }
      ]
    },
    {
      "cell_type": "code",
      "source": [
        "f = 'x:{:8.5f} --> y:{:8.5f}'\n",
        "for k in range(len(y)):\n",
        "  y_hat = w * x[k] + b\n",
        "  print(f.format(x[k].numpy(), y_hat.numpy()))"
      ],
      "metadata": {
        "colab": {
          "base_uri": "https://localhost:8080/"
        },
        "id": "jLhSaAdphmQ_",
        "outputId": "a7f4e1f1-2d61-4b18-91a9-1c6ada233c9a"
      },
      "execution_count": 6,
      "outputs": [
        {
          "output_type": "stream",
          "name": "stdout",
          "text": [
            "x: 3.00000 --> y: 0.79739\n",
            "x: 4.00000 --> y: 0.64854\n",
            "x: 5.00000 --> y: 0.49970\n",
            "x: 6.00000 --> y: 0.35085\n",
            "x: 7.00000 --> y: 0.20201\n",
            "x: 8.00000 --> y: 0.05316\n"
          ]
        }
      ]
    }
  ]
}