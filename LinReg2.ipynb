{
  "nbformat": 4,
  "nbformat_minor": 0,
  "metadata": {
    "colab": {
      "provenance": [],
      "authorship_tag": "ABX9TyOairNNm2nKK8im+YfzgM8T",
      "include_colab_link": true
    },
    "kernelspec": {
      "name": "python3",
      "display_name": "Python 3"
    },
    "language_info": {
      "name": "python"
    }
  },
  "cells": [
    {
      "cell_type": "markdown",
      "metadata": {
        "id": "view-in-github",
        "colab_type": "text"
      },
      "source": [
        "<a href=\"https://colab.research.google.com/github/KenPark-1025/loop_0405_1/blob/master/LinReg2.ipynb\" target=\"_parent\"><img src=\"https://colab.research.google.com/assets/colab-badge.svg\" alt=\"Open In Colab\"/></a>"
      ]
    },
    {
      "cell_type": "code",
      "execution_count": 1,
      "metadata": {
        "id": "fTP4NoKsQc6A"
      },
      "outputs": [],
      "source": [
        "import tensorflow as tf\n",
        "import numpy as np\n",
        "from time import time"
      ]
    },
    {
      "cell_type": "code",
      "source": [
        "x = tf.constant([1.,3.,5.,7.])\n",
        "y = tf.constant([2., 3., 4., 5.])\n",
        "w = tf.Variable(1.)\n",
        "b = tf.Variable(0.5)\n",
        "learning_rate = 0.01\n",
        "epochs = 1000"
      ],
      "metadata": {
        "id": "eWBbuSJBQows"
      },
      "execution_count": 2,
      "outputs": []
    },
    {
      "cell_type": "code",
      "source": [
        "@tf.function\n",
        "def train_step(x, y):\n",
        "  with tf.GradientTape() as t:\n",
        "    y_hat = w * x + b\n",
        "    loss = (y_hat - y) ** 2\n",
        "    grads = t.gradient(loss, [w, b])\n",
        "    w.assign_sub(learning_rate * grads[0])\n",
        "    b.assign_sub(learning_rate * grads[1])\n"
      ],
      "metadata": {
        "id": "7Fz51L27RKZo"
      },
      "execution_count": 8,
      "outputs": []
    },
    {
      "cell_type": "code",
      "source": [
        "start_t = time()\n",
        "for i in range(epochs):\n",
        "  for k in range(len(y)):\n",
        "    train_step(x[k], y[k])\n",
        "end_t = time()\n",
        "print(end_t - start_t)"
      ],
      "metadata": {
        "colab": {
          "base_uri": "https://localhost:8080/"
        },
        "id": "2RqMy81YR2UP",
        "outputId": "4d6cface-4d58-4bc2-92f9-6b3dac354292"
      },
      "execution_count": 10,
      "outputs": [
        {
          "output_type": "stream",
          "name": "stdout",
          "text": [
            "5.399956703186035\n"
          ]
        }
      ]
    },
    {
      "cell_type": "code",
      "source": [
        "print('w: {:8.5f} b:{:8.5f}'.format(w.numpy(), b.numpy()))"
      ],
      "metadata": {
        "id": "eZ8tvSV5TF2M",
        "colab": {
          "base_uri": "https://localhost:8080/"
        },
        "outputId": "70b78f0c-777f-4dc6-8b54-6275174d4d91"
      },
      "execution_count": 11,
      "outputs": [
        {
          "output_type": "stream",
          "name": "stdout",
          "text": [
            "w:  0.50000 b: 1.50000\n"
          ]
        }
      ]
    }
  ]
}