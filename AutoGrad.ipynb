{
  "nbformat": 4,
  "nbformat_minor": 0,
  "metadata": {
    "colab": {
      "provenance": [],
      "authorship_tag": "ABX9TyNeJNYveids0VsSmzh5lV0M",
      "include_colab_link": true
    },
    "kernelspec": {
      "name": "python3",
      "display_name": "Python 3"
    },
    "language_info": {
      "name": "python"
    }
  },
  "cells": [
    {
      "cell_type": "markdown",
      "metadata": {
        "id": "view-in-github",
        "colab_type": "text"
      },
      "source": [
        "<a href=\"https://colab.research.google.com/github/KenPark-1025/loop_0405_1/blob/master/AutoGrad.ipynb\" target=\"_parent\"><img src=\"https://colab.research.google.com/assets/colab-badge.svg\" alt=\"Open In Colab\"/></a>"
      ]
    },
    {
      "cell_type": "code",
      "execution_count": 1,
      "metadata": {
        "id": "aH5Zq2mvKusX"
      },
      "outputs": [],
      "source": [
        "import tensorflow as tf"
      ]
    },
    {
      "cell_type": "code",
      "source": [
        "x1 = tf.Variable(3.)\n",
        "x2 = tf.Variable(1., trainable=False)"
      ],
      "metadata": {
        "id": "L1yz_r8WK_6J"
      },
      "execution_count": 2,
      "outputs": []
    },
    {
      "cell_type": "code",
      "source": [
        "with tf.GradientTape() as t:\n",
        "  t.watch(x2)\n",
        "  y = (x1 + 2 * x2) **2\n",
        "  dy_dx = t.gradient(y, [x1, x2])"
      ],
      "metadata": {
        "id": "ok5AwXenLPv4"
      },
      "execution_count": 3,
      "outputs": []
    },
    {
      "cell_type": "code",
      "source": [
        "print(f'dy/dx1 = {dy_dx[0]}')\n",
        "print(f'dy/dx2 = {dy_dx[1]}')"
      ],
      "metadata": {
        "colab": {
          "base_uri": "https://localhost:8080/"
        },
        "id": "aT_J9dlXLutT",
        "outputId": "18776333-0202-4653-c00d-854439a12511"
      },
      "execution_count": 4,
      "outputs": [
        {
          "output_type": "stream",
          "name": "stdout",
          "text": [
            "dy/dx1 = 10.0\n",
            "dy/dx2 = 20.0\n"
          ]
        }
      ]
    }
  ]
}