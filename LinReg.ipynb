{
  "nbformat": 4,
  "nbformat_minor": 0,
  "metadata": {
    "colab": {
      "provenance": [],
      "authorship_tag": "ABX9TyPrG9WITYRglGI1WCOCfDE2",
      "include_colab_link": true
    },
    "kernelspec": {
      "name": "python3",
      "display_name": "Python 3"
    },
    "language_info": {
      "name": "python"
    }
  },
  "cells": [
    {
      "cell_type": "markdown",
      "metadata": {
        "id": "view-in-github",
        "colab_type": "text"
      },
      "source": [
        "<a href=\"https://colab.research.google.com/github/KenPark-1025/loop_0405_1/blob/master/LinReg.ipynb\" target=\"_parent\"><img src=\"https://colab.research.google.com/assets/colab-badge.svg\" alt=\"Open In Colab\"/></a>"
      ]
    },
    {
      "cell_type": "code",
      "execution_count": 1,
      "metadata": {
        "id": "fTP4NoKsQc6A"
      },
      "outputs": [],
      "source": [
        "import tensorflow as tf\n",
        "import numpy as np\n",
        "from time import time"
      ]
    },
    {
      "cell_type": "code",
      "source": [
        "x = tf.constant([1.,3.,5.,7.])\n",
        "y = tf.constant([2., 3., 4., 5.])\n",
        "w = tf.Variable(1.)\n",
        "b = tf.Variable(0.5)\n",
        "learning_rate = 0.01\n",
        "epochs = 1000"
      ],
      "metadata": {
        "id": "eWBbuSJBQows"
      },
      "execution_count": 2,
      "outputs": []
    },
    {
      "cell_type": "code",
      "source": [
        "def train_step(x, y):\n",
        "  with tf.GradientTape() as t:\n",
        "    y_hat = w * x + b\n",
        "    loss = (y_hat - y) ** 2\n",
        "    grads = t.gradient(loss, [w, b])\n",
        "    w.assign_sub(learning_rate * grads[0])\n",
        "    b.assign_sub(learning_rate * grads[1])\n"
      ],
      "metadata": {
        "id": "7Fz51L27RKZo"
      },
      "execution_count": 3,
      "outputs": []
    },
    {
      "cell_type": "code",
      "source": [
        "start_t = time()\n",
        "for i in range(epochs):\n",
        "  for k in range(len(y)):\n",
        "    train_step(x[k], y[k])\n",
        "end_t = time()\n",
        "print(end_t - start_t)"
      ],
      "metadata": {
        "colab": {
          "base_uri": "https://localhost:8080/"
        },
        "id": "2RqMy81YR2UP",
        "outputId": "d55beb21-8013-4463-f385-aef6a0dc44a5"
      },
      "execution_count": 4,
      "outputs": [
        {
          "output_type": "stream",
          "name": "stdout",
          "text": [
            "8.592129707336426\n"
          ]
        }
      ]
    },
    {
      "cell_type": "code",
      "source": [
        "print('w: {:8.5f} b:{:8.5f}'.format(w.numpy(), b.numpy()))"
      ],
      "metadata": {
        "id": "eZ8tvSV5TF2M",
        "colab": {
          "base_uri": "https://localhost:8080/"
        },
        "outputId": "7f12f6e1-8c93-440e-c4bd-0f847353d269"
      },
      "execution_count": 5,
      "outputs": [
        {
          "output_type": "stream",
          "name": "stdout",
          "text": [
            "w:  0.50000 b: 1.50000\n"
          ]
        }
      ]
    }
  ]
}